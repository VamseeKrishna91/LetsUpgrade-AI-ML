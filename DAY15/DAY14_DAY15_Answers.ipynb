{
 "cells": [
  {
   "cell_type": "markdown",
   "metadata": {},
   "source": [
    "# 1. Create a 3x3x3 array with random values "
   ]
  },
  {
   "cell_type": "code",
   "execution_count": 21,
   "metadata": {},
   "outputs": [
    {
     "data": {
      "text/plain": [
       "array([[[-0.27169565,  1.39901012,  0.5662323 ],\n",
       "        [ 0.33019623,  0.67604465,  0.34604016],\n",
       "        [ 1.38076405,  0.32081799,  0.99529495]],\n",
       "\n",
       "       [[ 0.73272885, -0.29941427, -0.15377454],\n",
       "        [ 1.01121567, -1.10305509,  1.32834138],\n",
       "        [-0.23516442,  0.16727411,  1.45578974]],\n",
       "\n",
       "       [[ 0.71827057, -0.9483431 , -0.98338936],\n",
       "        [ 0.46163923,  1.73873685,  0.72982559],\n",
       "        [-1.33453818, -0.26384767, -0.10895339]]])"
      ]
     },
     "execution_count": 21,
     "metadata": {},
     "output_type": "execute_result"
    }
   ],
   "source": [
    "import numpy as np\n",
    "arr1 = np.array([[[1,2,3],[4,5,6],[7,8,9]]])\n",
    "arr1\n",
    "arr2 = np.random.randn(3,3,3)\n",
    "arr2"
   ]
  },
  {
   "cell_type": "markdown",
   "metadata": {},
   "source": [
    "# 2.Create a 5x5 matrix with values 1,2,3,4 just below the diagonal"
   ]
  },
  {
   "cell_type": "code",
   "execution_count": 92,
   "metadata": {},
   "outputs": [
    {
     "name": "stdout",
     "output_type": "stream",
     "text": [
      "original array was :\n",
      " [[ 1  6 11 16 21]\n",
      " [ 2  7 12 17 22]\n",
      " [ 3  8 13 18 23]\n",
      " [ 4  9 14 19 24]\n",
      " [ 5 10 15 20 25]]\n",
      "diagonal elements are :  [ 5  7 13 19 25]\n",
      "required numbers below diagonal :\n",
      "  [[ 5  6 11 16 21]\n",
      " [ 4  7 12 17 22]\n",
      " [ 3  8 13 18 23]\n",
      " [ 2  9 14 19 24]\n",
      " [ 1 10 15 20 25]]\n"
     ]
    }
   ],
   "source": [
    "import pandas as pd\n",
    "\n",
    "arr1 = np.arange(1,26)\n",
    "arr1 = arr1.reshape(5,5)\n",
    "arr1 = arr1.transpose()\n",
    "print('original array was :\\n',arr1)\n",
    "arr1[:,0] = arr1[-1::-1,0]\n",
    "print('diagonal elements are : ',np.diag(arr1))\n",
    "print('required numbers below diagonal :\\n ' ,arr1)\n",
    "\n",
    "\n"
   ]
  },
  {
   "cell_type": "markdown",
   "metadata": {},
   "source": [
    "# 3.Create a 8x8 matrix and fill it with a checkerboard pattern"
   ]
  },
  {
   "cell_type": "code",
   "execution_count": 108,
   "metadata": {},
   "outputs": [
    {
     "data": {
      "text/plain": [
       "array([[1, 0, 1, 0, 1, 0, 1, 0],\n",
       "       [1, 0, 1, 0, 1, 0, 1, 0],\n",
       "       [1, 0, 1, 0, 1, 0, 1, 0],\n",
       "       [1, 0, 1, 0, 1, 0, 1, 0],\n",
       "       [1, 0, 1, 0, 1, 0, 1, 0],\n",
       "       [1, 0, 1, 0, 1, 0, 1, 0],\n",
       "       [1, 0, 1, 0, 1, 0, 1, 0],\n",
       "       [1, 0, 1, 0, 1, 0, 1, 0]])"
      ]
     },
     "execution_count": 108,
     "metadata": {},
     "output_type": "execute_result"
    }
   ],
   "source": [
    "arr1 = np.ones((8,8),dtype=int)\n",
    "\n",
    "arr3 = np.ones_like(arr1)\n",
    "\n",
    "for i in range(8):\n",
    "    for j in range(8):\n",
    "        if (i%2) == 0 :\n",
    "            if (j%2) == 0 :\n",
    "                arr3[i,j]=1\n",
    "            else:\n",
    "                arr3[i,j] = 0\n",
    "        else:\n",
    "            if (j%2) == 0 :\n",
    "                arr3[i,j]=1\n",
    "            else:\n",
    "                arr3[i,j] = 0\n",
    "\n",
    "                \n",
    "arr3     \n",
    "        "
   ]
  },
  {
   "cell_type": "markdown",
   "metadata": {},
   "source": [
    "# 4. Normalize a 5x5 random matrix"
   ]
  },
  {
   "cell_type": "code",
   "execution_count": 186,
   "metadata": {},
   "outputs": [
    {
     "name": "stdout",
     "output_type": "stream",
     "text": [
      "original matrix is :\n",
      " [[ 1  2  3  4  5]\n",
      " [ 6  7  8  9 10]\n",
      " [11 12 13 14 15]\n",
      " [16 17 18 19 20]\n",
      " [21 22 23 24 25]]\n",
      "After normalization:\n",
      "[[0.         0.04166667 0.08333333 0.125      0.16666667]\n",
      " [0.20833333 0.25       0.29166667 0.33333333 0.375     ]\n",
      " [0.41666667 0.45833333 0.5        0.54166667 0.58333333]\n",
      " [0.625      0.66666667 0.70833333 0.75       0.79166667]\n",
      " [0.83333333 0.875      0.91666667 0.95833333 1.        ]]\n"
     ]
    }
   ],
   "source": [
    "arr1 =np.arange(1,26).reshape(5,5)\n",
    "arr1 =np.matrix(arr1)\n",
    "print('original matrix is :\\n',arr1)\n",
    "arr1max, arr1min = arr1.max(), arr1.min()\n",
    "arr1 = (arr1 - arr1min)/(arr1max - arr1min)\n",
    "print(\"After normalization:\")\n",
    "print(arr1)\n"
   ]
  },
  {
   "cell_type": "markdown",
   "metadata": {},
   "source": [
    "# 5.  How to find common values between two arrays?"
   ]
  },
  {
   "cell_type": "code",
   "execution_count": 154,
   "metadata": {},
   "outputs": [
    {
     "data": {
      "text/plain": [
       "array([3, 4])"
      ]
     },
     "execution_count": 154,
     "metadata": {},
     "output_type": "execute_result"
    }
   ],
   "source": [
    "arr1 = np.array([[1,2,3,4],[5,6,4,8]])\n",
    "arr2 = np.array([[4,11,3,7],[10,11,4,15]])\n",
    "arr1[arr1==arr2]\n"
   ]
  },
  {
   "cell_type": "markdown",
   "metadata": {},
   "source": [
    "# 6.How to get the dates of yesterday, today and tomorrow?"
   ]
  },
  {
   "cell_type": "code",
   "execution_count": 167,
   "metadata": {},
   "outputs": [
    {
     "name": "stdout",
     "output_type": "stream",
     "text": [
      "Todays Date is : 2020-07-26\n",
      "Yesterdays date was : 2020-07-25\n",
      "Tomorrows date is : 2020-07-27\n"
     ]
    }
   ],
   "source": [
    "from datetime import date\n",
    "from datetime import timedelta\n",
    "today = date.today()\n",
    "print('Todays Date is :',today)\n",
    "yesterday = today -timedelta(days=1)\n",
    "\n",
    "print('Yesterdays date was :',yesterday)\n",
    "tomorrow = today +timedelta(days=1)\n",
    "print('Tomorrows date is :',tomorrow)"
   ]
  },
  {
   "cell_type": "markdown",
   "metadata": {},
   "source": [
    "# 7. Consider two random array A and B, check if they are equal"
   ]
  },
  {
   "cell_type": "code",
   "execution_count": 184,
   "metadata": {},
   "outputs": [
    {
     "name": "stdout",
     "output_type": "stream",
     "text": [
      "They are Equal..!!\n"
     ]
    }
   ],
   "source": [
    "a = np.array([[1,2,3,4],[5,6,7,8]])\n",
    "b = np.array([[1,2,3,4],[5,6,7,8]])\n",
    "x,y=a.shape\n",
    "for i in range(x):\n",
    "    for j in range(y):\n",
    "        if a[i,j]!=b[i,j]:\n",
    "            print(\"They are not Equal !!\")\n",
    "        break\n",
    "else:\n",
    "    print('They are Equal..!!')\n",
    "        \n",
    "        \n",
    "    \n"
   ]
  },
  {
   "cell_type": "markdown",
   "metadata": {},
   "source": [
    "# 8.Create random vector of size 10 and replace the maximum value by 0 "
   ]
  },
  {
   "cell_type": "code",
   "execution_count": 202,
   "metadata": {},
   "outputs": [
    {
     "name": "stdout",
     "output_type": "stream",
     "text": [
      "length of a is  10\n",
      "Maximum value is : 1.236267225894594\n",
      "New Vector is : [-1.05186912  0.79443982 -0.14662848  0.96473933 -1.3109792  -0.07302332\n",
      " -1.01325332 -0.54425176 -0.73090351  0.        ]\n"
     ]
    }
   ],
   "source": [
    "a = np.random.randn(10)\n",
    "print('length of a is ',len(a))\n",
    "amax = a.max()\n",
    "print('Maximum value is :',amax)\n",
    "\n",
    "for i in range(len(a)):\n",
    "    if (a[i] == amax):\n",
    "        a[i]=0\n",
    "print('New Vector is :',a)"
   ]
  },
  {
   "cell_type": "markdown",
   "metadata": {},
   "source": [
    "# 9. How to print all the values of an array?"
   ]
  },
  {
   "cell_type": "code",
   "execution_count": 206,
   "metadata": {},
   "outputs": [
    {
     "name": "stdout",
     "output_type": "stream",
     "text": [
      "1 2 3 4 5 "
     ]
    }
   ],
   "source": [
    "a = np.array([1,2,3,4,5])\n",
    "for i in range(len(a)):\n",
    "    print(a[i],end=' ')"
   ]
  },
  {
   "cell_type": "markdown",
   "metadata": {},
   "source": [
    "# 10.Subtract the mean of each row of a matrix"
   ]
  },
  {
   "cell_type": "code",
   "execution_count": 211,
   "metadata": {},
   "outputs": [
    {
     "name": "stdout",
     "output_type": "stream",
     "text": [
      "2D array is :\n",
      " [[1 2 3 4]\n",
      " [5 6 7 8]]\n",
      "Mean of the array is : 4.5\n",
      "Result of the subtraction is :\n",
      " [[-3.5 -2.5 -1.5 -0.5]\n",
      " [ 0.5  1.5  2.5  3.5]]\n"
     ]
    }
   ],
   "source": [
    "a = np.array([[1,2,3,4],[5,6,7,8]])\n",
    "print('2D array is :\\n',a)\n",
    "mean = a.mean()\n",
    "print('Mean of the array is :',mean)\n",
    "result = a-mean\n",
    "print('Result of the subtraction is :\\n',result)"
   ]
  },
  {
   "cell_type": "markdown",
   "metadata": {},
   "source": [
    "# 11.Consider a given vector, how to add 1 to each element indexed by a second vector (be careful with repeated indices)? "
   ]
  },
  {
   "cell_type": "code",
   "execution_count": 230,
   "metadata": {},
   "outputs": [
    {
     "name": "stdout",
     "output_type": "stream",
     "text": [
      "Random array is :  [1 2 3 4 5]\n",
      "Array of elements based on which the operation is to be carried out is : [1 1 2 3]\n",
      "Unique Elements of Index array is : [1, 2, 3]\n",
      "new array is : [1 3 4 5 5]\n"
     ]
    }
   ],
   "source": [
    "a = np.array([1,2,3,4,5])\n",
    "print('Random array is : ',a)\n",
    "index = np.array([1,1,2,3])\n",
    "print('Array of elements based on which the operation is to be carried out is :',index)\n",
    "index = np.sort(index)\n",
    "temp = []\n",
    "for i in index:\n",
    "    if i not in temp:\n",
    "        temp.append(i)\n",
    "print('Unique Elements of Index array is :',temp)\n",
    "     \n",
    "temp = np.array(temp)\n",
    "for i in temp:\n",
    "    a[i] = a[i]+1\n",
    "            \n",
    "print('new array is :',a)         "
   ]
  },
  {
   "cell_type": "code",
   "execution_count": null,
   "metadata": {},
   "outputs": [],
   "source": []
  },
  {
   "cell_type": "markdown",
   "metadata": {},
   "source": [
    "# 12.How to get the diagonal of a dot product?"
   ]
  },
  {
   "cell_type": "code",
   "execution_count": 236,
   "metadata": {},
   "outputs": [
    {
     "name": "stdout",
     "output_type": "stream",
     "text": [
      "Dot product is :\n",
      " [[130 140]\n",
      " [322 348]]\n",
      "Diagonal of the dot product is : [130 348]\n"
     ]
    }
   ],
   "source": [
    "a = np.array([[1,2,3,4],[5,6,7,8]])\n",
    "b = np.array([[9,10],[11,12],[13,14],[15,16]])\n",
    "c = a.dot(b)\n",
    "print('Dot product is :\\n',c)\n",
    "print('Diagonal of the dot product is :',c.diagonal())"
   ]
  },
  {
   "cell_type": "markdown",
   "metadata": {},
   "source": [
    "# 13.How to find the most frequent value in an array?"
   ]
  },
  {
   "cell_type": "code",
   "execution_count": 348,
   "metadata": {},
   "outputs": [
    {
     "name": "stdout",
     "output_type": "stream",
     "text": [
      "Element which has max frequency is : 4\n",
      "Maximum Frequency of element is : 10\n"
     ]
    }
   ],
   "source": [
    "a= np.array([1,2,3,4,4,4,4,4,4,4,4,4,4,1,1,2,2,2,2,2,2,2])\n",
    "a=np.sort(a)\n",
    "temp = np.copy(a)\n",
    "temp=np.sort(temp)\n",
    "count=0\n",
    "maxa =1\n",
    "for i in a:\n",
    "    for j in temp:\n",
    "        if i ==j:\n",
    "            count= count+1\n",
    "            if count>maxa:\n",
    "                maxa =count\n",
    "                k=i\n",
    "        else:\n",
    "            count =0\n",
    "print('Element which has max frequency is :',k)            \n",
    "print('Maximum Frequency of element is :',maxa)        "
   ]
  },
  {
   "cell_type": "markdown",
   "metadata": {},
   "source": [
    "# 14.How to get the n largest values of an array"
   ]
  },
  {
   "cell_type": "code",
   "execution_count": 291,
   "metadata": {},
   "outputs": [
    {
     "name": "stdout",
     "output_type": "stream",
     "text": [
      "please input n value\n",
      "None3\n"
     ]
    },
    {
     "data": {
      "text/plain": [
       "array([9, 8, 7])"
      ]
     },
     "execution_count": 291,
     "metadata": {},
     "output_type": "execute_result"
    }
   ],
   "source": [
    "a =np.array([1,2,3,1,2,3,4,5,6,7,8,9])\n",
    "a= np.unique(a)\n",
    "a= np.sort(a)\n",
    "n = int(input(print('please input n value')))\n",
    "a[-1:-(n+1):-1]\n",
    "    "
   ]
  },
  {
   "cell_type": "markdown",
   "metadata": {},
   "source": [
    "# 15.How to create a record array from a regular array?"
   ]
  },
  {
   "cell_type": "code",
   "execution_count": 329,
   "metadata": {},
   "outputs": [
    {
     "data": {
      "text/plain": [
       "array(['Vamsi', 'Priyanka', 'Apoorv'], dtype='<U16')"
      ]
     },
     "execution_count": 329,
     "metadata": {},
     "output_type": "execute_result"
    }
   ],
   "source": [
    "arr1 = np.array([('Vamsi',30,'IT'),('Priyanka',30,'Tech'),('Apoorv',30,'Chem')],dtype =[('Name','U16'),('Age','i8'),('Branch','U16')])\n",
    "arr1['Age']\n",
    "arr1 = arr1.view(np.recarray)\n",
    "arr1.Name"
   ]
  },
  {
   "cell_type": "code",
   "execution_count": null,
   "metadata": {},
   "outputs": [],
   "source": []
  }
 ],
 "metadata": {
  "kernelspec": {
   "display_name": "Python 3",
   "language": "python",
   "name": "python3"
  },
  "language_info": {
   "codemirror_mode": {
    "name": "ipython",
    "version": 3
   },
   "file_extension": ".py",
   "mimetype": "text/x-python",
   "name": "python",
   "nbconvert_exporter": "python",
   "pygments_lexer": "ipython3",
   "version": "3.7.4"
  }
 },
 "nbformat": 4,
 "nbformat_minor": 2
}
